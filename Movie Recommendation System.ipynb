{
 "cells": [
  {
   "cell_type": "markdown",
   "metadata": {},
   "source": [
    "# Sentiment Analysis of twitter trends "
   ]
  },
  {
   "cell_type": "markdown",
   "metadata": {},
   "source": [
    "## Training a classifier"
   ]
  },
  {
   "cell_type": "code",
   "execution_count": 36,
   "metadata": {
    "collapsed": true
   },
   "outputs": [],
   "source": [
    "import nltk"
   ]
  },
  {
   "cell_type": "code",
   "execution_count": 37,
   "metadata": {},
   "outputs": [
    {
     "name": "stdout",
     "output_type": "stream",
     "text": [
      "[nltk_data] Downloading package movie_reviews to C:\\Users\\Yasir\n",
      "[nltk_data]     Mehmood\\AppData\\Roaming\\nltk_data...\n",
      "[nltk_data]   Package movie_reviews is already up-to-date!\n"
     ]
    },
    {
     "data": {
      "text/plain": [
       "True"
      ]
     },
     "execution_count": 37,
     "metadata": {},
     "output_type": "execute_result"
    }
   ],
   "source": [
    "nltk.download(\"movie_reviews\")"
   ]
  },
  {
   "cell_type": "code",
   "execution_count": 38,
   "metadata": {
    "collapsed": true
   },
   "outputs": [],
   "source": [
    "from nltk.corpus import movie_reviews"
   ]
  },
  {
   "cell_type": "code",
   "execution_count": 39,
   "metadata": {},
   "outputs": [
    {
     "data": {
      "text/plain": [
       "2000"
      ]
     },
     "execution_count": 39,
     "metadata": {},
     "output_type": "execute_result"
    }
   ],
   "source": [
    "len(movie_reviews.fileids())"
   ]
  },
  {
   "cell_type": "code",
   "execution_count": 40,
   "metadata": {},
   "outputs": [
    {
     "data": {
      "text/plain": [
       "['neg/cv000_29416.txt',\n",
       " 'neg/cv001_19502.txt',\n",
       " 'neg/cv002_17424.txt',\n",
       " 'neg/cv003_12683.txt',\n",
       " 'neg/cv004_12641.txt']"
      ]
     },
     "execution_count": 40,
     "metadata": {},
     "output_type": "execute_result"
    }
   ],
   "source": [
    "movie_reviews.fileids()[:5]"
   ]
  },
  {
   "cell_type": "code",
   "execution_count": 41,
   "metadata": {},
   "outputs": [
    {
     "data": {
      "text/plain": [
       "['pos/cv995_21821.txt',\n",
       " 'pos/cv996_11592.txt',\n",
       " 'pos/cv997_5046.txt',\n",
       " 'pos/cv998_14111.txt',\n",
       " 'pos/cv999_13106.txt']"
      ]
     },
     "execution_count": 41,
     "metadata": {},
     "output_type": "execute_result"
    }
   ],
   "source": [
    "movie_reviews.fileids()[-5:]"
   ]
  },
  {
   "cell_type": "code",
   "execution_count": 42,
   "metadata": {
    "collapsed": true
   },
   "outputs": [],
   "source": [
    "negative_fileids = movie_reviews.fileids('neg')\n",
    "positive_fileids = movie_reviews.fileids('pos')"
   ]
  },
  {
   "cell_type": "code",
   "execution_count": 43,
   "metadata": {},
   "outputs": [
    {
     "data": {
      "text/plain": [
       "(1000, 1000)"
      ]
     },
     "execution_count": 43,
     "metadata": {},
     "output_type": "execute_result"
    }
   ],
   "source": [
    "len(negative_fileids), len(positive_fileids)"
   ]
  },
  {
   "cell_type": "code",
   "execution_count": 44,
   "metadata": {},
   "outputs": [
    {
     "name": "stdout",
     "output_type": "stream",
     "text": [
      "films adapted from comic books have had plenty of success , whether they're about superheroes ( batman , superman , spawn ) , or geared toward kids ( casper ) or the arthouse crowd ( ghost world ) , but there's never really been a comic book like from hell before . \n",
      "for starters , it was created by alan moore ( and eddie campbell ) , who brought the medium to a whole new level in the mid '80s with a 12-part series called the watchmen . \n",
      "to say moore and campbell thoroughly researched the subject of jack the ripper would be like saying michael jackson is starting to look a little odd . \n",
      "the book ( or \" graphic novel , \" if you will ) is over 500 pages long and includes nearly 30 more that consist of nothing but footnotes . \n",
      "in other words , don't dismiss this film because of its source . \n",
      "if you can get past the whole comic book thing , you might find another stumbling block in from hell's directors , albert and allen hughes . \n",
      "getting the hughes brothers to direct this seems almost as ludicrous as casting carrot top in , well , anything , but riddle me this : who better to direct a film that's set in the ghetto and features really violent street crime than the mad geniuses behind menace ii society ? \n",
      "the ghetto in question is , of course , whitechapel in 1888 london's east end . \n",
      "it's a filthy , sooty place where the whores ( called \" unfortunates \" ) are starting to get a little nervous about this mysterious psychopath who has been carving through their profession with surgical precision . \n",
      "when the first stiff turns up , copper peter godley ( robbie coltrane , the world is not enough ) calls in inspector frederick abberline ( johnny depp , blow ) to crack the case . \n",
      "abberline , a widower , has prophetic dreams he unsuccessfully tries to quell with copious amounts of absinthe and opium . \n",
      "upon arriving in whitechapel , he befriends an unfortunate named mary kelly ( heather graham , say it isn't so ) and proceeds to investigate the horribly gruesome crimes that even the police surgeon can't stomach . \n",
      "i don't think anyone needs to be briefed on jack the ripper , so i won't go into the particulars here , other than to say moore and campbell have a unique and interesting theory about both the identity of the killer and the reasons he chooses to slay . \n",
      "in the comic , they don't bother cloaking the identity of the ripper , but screenwriters terry hayes ( vertical limit ) and rafael yglesias ( les mis ? rables ) do a good job of keeping him hidden from viewers until the very end . \n",
      "it's funny to watch the locals blindly point the finger of blame at jews and indians because , after all , an englishman could never be capable of committing such ghastly acts . \n",
      "and from hell's ending had me whistling the stonecutters song from the simpsons for days ( \" who holds back the electric car/who made steve guttenberg a star ? \" ) . \n",
      "don't worry - it'll all make sense when you see it . \n",
      "now onto from hell's appearance : it's certainly dark and bleak enough , and it's surprising to see how much more it looks like a tim burton film than planet of the apes did ( at times , it seems like sleepy hollow 2 ) . \n",
      "the print i saw wasn't completely finished ( both color and music had not been finalized , so no comments about marilyn manson ) , but cinematographer peter deming ( don't say a word ) ably captures the dreariness of victorian-era london and helped make the flashy killing scenes remind me of the crazy flashbacks in twin peaks , even though the violence in the film pales in comparison to that in the black-and-white comic . \n",
      "oscar winner martin childs' ( shakespeare in love ) production design turns the original prague surroundings into one creepy place . \n",
      "even the acting in from hell is solid , with the dreamy depp turning in a typically strong performance and deftly handling a british accent . \n",
      "ians holm ( joe gould's secret ) and richardson ( 102 dalmatians ) log in great supporting roles , but the big surprise here is graham . \n",
      "i cringed the first time she opened her mouth , imagining her attempt at an irish accent , but it actually wasn't half bad . \n",
      "the film , however , is all good . \n",
      "2 : 00 - r for strong violence/gore , sexuality , language and drug content \n",
      "\n"
     ]
    }
   ],
   "source": [
    "print(movie_reviews.raw(fileids=positive_fileids[0]))"
   ]
  },
  {
   "cell_type": "code",
   "execution_count": 45,
   "metadata": {},
   "outputs": [
    {
     "name": "stdout",
     "output_type": "stream",
     "text": [
      "[nltk_data] Downloading package punkt to C:\\Users\\Yasir\n",
      "[nltk_data]     Mehmood\\AppData\\Roaming\\nltk_data...\n",
      "[nltk_data]   Package punkt is already up-to-date!\n"
     ]
    },
    {
     "data": {
      "text/plain": [
       "True"
      ]
     },
     "execution_count": 45,
     "metadata": {},
     "output_type": "execute_result"
    }
   ],
   "source": [
    "nltk.download(\"punkt\")"
   ]
  },
  {
   "cell_type": "code",
   "execution_count": 46,
   "metadata": {},
   "outputs": [
    {
     "data": {
      "text/plain": [
       "1.58382"
      ]
     },
     "execution_count": 46,
     "metadata": {},
     "output_type": "execute_result"
    }
   ],
   "source": [
    "all_words = movie_reviews.words()\n",
    "len(all_words)/1e6"
   ]
  },
  {
   "cell_type": "code",
   "execution_count": 47,
   "metadata": {},
   "outputs": [
    {
     "name": "stdout",
     "output_type": "stream",
     "text": [
      "[nltk_data] Downloading package stopwords to C:\\Users\\Yasir\n",
      "[nltk_data]     Mehmood\\AppData\\Roaming\\nltk_data...\n",
      "[nltk_data]   Package stopwords is already up-to-date!\n"
     ]
    },
    {
     "data": {
      "text/plain": [
       "True"
      ]
     },
     "execution_count": 47,
     "metadata": {},
     "output_type": "execute_result"
    }
   ],
   "source": [
    "nltk.download(\"stopwords\")"
   ]
  },
  {
   "cell_type": "code",
   "execution_count": 48,
   "metadata": {
    "collapsed": true
   },
   "outputs": [],
   "source": [
    "import string"
   ]
  },
  {
   "cell_type": "code",
   "execution_count": 49,
   "metadata": {},
   "outputs": [
    {
     "data": {
      "text/plain": [
       "'!\"#$%&\\'()*+,-./:;<=>?@[\\\\]^_`{|}~'"
      ]
     },
     "execution_count": 49,
     "metadata": {},
     "output_type": "execute_result"
    }
   ],
   "source": [
    "string.punctuation"
   ]
  },
  {
   "cell_type": "code",
   "execution_count": 265,
   "metadata": {},
   "outputs": [
    {
     "data": {
      "text/plain": [
       "['https', '//']"
      ]
     },
     "execution_count": 265,
     "metadata": {},
     "output_type": "execute_result"
    }
   ],
   "source": [
    "list_others= ['https', '//']\n",
    "list_others"
   ]
  },
  {
   "cell_type": "code",
   "execution_count": 270,
   "metadata": {
    "collapsed": true
   },
   "outputs": [],
   "source": [
    "useless_words = nltk.corpus.stopwords.words(\"english\") + list(string.punctuation)+list_others"
   ]
  },
  {
   "cell_type": "code",
   "execution_count": 52,
   "metadata": {},
   "outputs": [
    {
     "data": {
      "text/plain": [
       "list"
      ]
     },
     "execution_count": 52,
     "metadata": {},
     "output_type": "execute_result"
    }
   ],
   "source": [
    "filtered_words = [word for word in movie_reviews.words() if not word in useless_words]\n",
    "type(filtered_words)"
   ]
  },
  {
   "cell_type": "code",
   "execution_count": 53,
   "metadata": {},
   "outputs": [
    {
     "data": {
      "text/plain": [
       "0.710579"
      ]
     },
     "execution_count": 53,
     "metadata": {},
     "output_type": "execute_result"
    }
   ],
   "source": [
    "len(filtered_words)/1e6"
   ]
  },
  {
   "cell_type": "code",
   "execution_count": 54,
   "metadata": {
    "collapsed": true
   },
   "outputs": [],
   "source": [
    "from collections import Counter\n",
    "\n",
    "word_counter = Counter(filtered_words)"
   ]
  },
  {
   "cell_type": "code",
   "execution_count": 55,
   "metadata": {
    "collapsed": true
   },
   "outputs": [],
   "source": [
    "most_common_words = word_counter.most_common()[:10]"
   ]
  },
  {
   "cell_type": "code",
   "execution_count": 56,
   "metadata": {},
   "outputs": [
    {
     "data": {
      "text/plain": [
       "[('film', 9517),\n",
       " ('one', 5852),\n",
       " ('movie', 5771),\n",
       " ('like', 3690),\n",
       " ('even', 2565),\n",
       " ('good', 2411),\n",
       " ('time', 2411),\n",
       " ('story', 2169),\n",
       " ('would', 2109),\n",
       " ('much', 2049)]"
      ]
     },
     "execution_count": 56,
     "metadata": {},
     "output_type": "execute_result"
    }
   ],
   "source": [
    "most_common_words"
   ]
  },
  {
   "cell_type": "code",
   "execution_count": 57,
   "metadata": {
    "collapsed": true
   },
   "outputs": [],
   "source": [
    "%matplotlib inline\n",
    "import matplotlib.pyplot as plt"
   ]
  },
  {
   "cell_type": "code",
   "execution_count": 58,
   "metadata": {},
   "outputs": [
    {
     "data": {
      "image/png": "[encoded data removed]",
      "text/plain": [
       "<matplotlib.figure.Figure at 0xf12be9cfd0>"
      ]
     },
     "metadata": {},
     "output_type": "display_data"
    }
   ],
   "source": [
    "sorted_word_counts = sorted(list(word_counter.values()), reverse=True)\n",
    "\n",
    "plt.loglog(sorted_word_counts)\n",
    "plt.ylabel(\"Freq\")\n",
    "plt.xlabel(\"Word Rank\");"
   ]
  },
  {
   "cell_type": "code",
   "execution_count": 59,
   "metadata": {},
   "outputs": [
    {
     "data": {
      "image/png": "[encoded data removed]",
      "text/plain": [
       "<matplotlib.figure.Figure at 0xf12c062860>"
      ]
     },
     "metadata": {},
     "output_type": "display_data"
    }
   ],
   "source": [
    "plt.hist(sorted_word_counts, bins=50);"
   ]
  },
  {
   "cell_type": "code",
   "execution_count": 60,
   "metadata": {},
   "outputs": [
    {
     "data": {
      "image/png": "[encoded data removed]",
      "text/plain": [
       "<matplotlib.figure.Figure at 0xf12c1611d0>"
      ]
     },
     "metadata": {},
     "output_type": "display_data"
    }
   ],
   "source": [
    "plt.hist(sorted_word_counts, bins=50, log=True);"
   ]
  },
  {
   "cell_type": "code",
   "execution_count": 267,
   "metadata": {
    "collapsed": true
   },
   "outputs": [],
   "source": [
    "def build_bag_of_words_features_filtered(words):\n",
    "    return {\n",
    "        word:1 for word in words \\\n",
    "        if not word in useless_words}"
   ]
  },
  {
   "cell_type": "code",
   "execution_count": 144,
   "metadata": {
    "collapsed": true
   },
   "outputs": [],
   "source": [
    "negative_features = [\n",
    "    (build_bag_of_words_features_filtered(movie_reviews.words(fileids=[f])), 'neg') \\\n",
    "    for f in negative_fileids\n",
    "]"
   ]
  },
  {
   "cell_type": "code",
   "execution_count": 145,
   "metadata": {},
   "outputs": [
    {
     "name": "stdout",
     "output_type": "stream",
     "text": [
      "({'quest': 1, 'camelot': 1, 'warner': 1, 'bros': 1, 'first': 1, 'feature': 1, 'length': 1, 'fully': 1, 'animated': 1, 'attempt': 1, 'steal': 1, 'clout': 1, 'disney': 1, 'cartoon': 1, 'empire': 1, 'mouse': 1, 'reason': 1, 'worried': 1, 'recent': 1, 'challenger': 1, 'throne': 1, 'last': 1, 'fall': 1, 'promising': 1, 'flawed': 1, '20th': 1, 'century': 1, 'fox': 1, 'production': 1, 'anastasia': 1, 'hercules': 1, 'lively': 1, 'cast': 1, 'colorful': 1, 'palate': 1, 'beat': 1, 'hands': 1, 'came': 1, 'time': 1, 'crown': 1, '1997': 1, 'best': 1, 'piece': 1, 'animation': 1, 'year': 1, 'contest': 1, 'pretty': 1, 'much': 1, 'dead': 1, 'arrival': 1, 'even': 1, 'magic': 1, 'kingdom': 1, 'mediocre': 1, '--': 1, 'pocahontas': 1, 'keeping': 1, 'score': 1, 'nearly': 1, 'dull': 1, 'story': 1, 'revolves': 1, 'around': 1, 'adventures': 1, 'free': 1, 'spirited': 1, 'kayley': 1, 'voiced': 1, 'jessalyn': 1, 'gilsig': 1, 'early': 1, 'teen': 1, 'daughter': 1, 'belated': 1, 'knight': 1, 'king': 1, 'arthur': 1, 'round': 1, 'table': 1, 'dream': 1, 'follow': 1, 'father': 1, 'footsteps': 1, 'gets': 1, 'chance': 1, 'evil': 1, 'warlord': 1, 'ruber': 1, 'gary': 1, 'oldman': 1, 'ex': 1, 'member': 1, 'gone': 1, 'bad': 1, 'steals': 1, 'magical': 1, 'sword': 1, 'excalibur': 1, 'accidentally': 1, 'loses': 1, 'dangerous': 1, 'booby': 1, 'trapped': 1, 'forest': 1, 'help': 1, 'hunky': 1, 'blind': 1, 'timberland': 1, 'dweller': 1, 'garrett': 1, 'carey': 1, 'elwes': 1, 'two': 1, 'headed': 1, 'dragon': 1, 'eric': 1, 'idle': 1, 'rickles': 1, 'always': 1, 'arguing': 1, 'might': 1, 'able': 1, 'break': 1, 'medieval': 1, 'sexist': 1, 'mold': 1, 'prove': 1, 'worth': 1, 'fighter': 1, 'side': 1, 'missing': 1, 'pure': 1, 'showmanship': 1, 'essential': 1, 'element': 1, 'ever': 1, 'expected': 1, 'climb': 1, 'high': 1, 'ranks': 1, 'nothing': 1, 'differentiates': 1, 'something': 1, 'see': 1, 'given': 1, 'saturday': 1, 'morning': 1, 'subpar': 1, 'instantly': 1, 'forgettable': 1, 'songs': 1, 'poorly': 1, 'integrated': 1, 'computerized': 1, 'footage': 1, 'compare': 1, 'run': 1, 'angry': 1, 'ogre': 1, 'herc': 1, 'battle': 1, 'hydra': 1, 'rest': 1, 'case': 1, 'characters': 1, 'stink': 1, 'none': 1, 'remotely': 1, 'interesting': 1, 'film': 1, 'becomes': 1, 'race': 1, 'one': 1, 'bland': 1, 'others': 1, 'end': 1, 'tie': 1, 'win': 1, 'comedy': 1, 'shtick': 1, 'awfully': 1, 'cloying': 1, 'least': 1, 'shows': 1, 'signs': 1, 'pulse': 1, 'fans': 1, \"-'\": 1, '90s': 1, 'tgif': 1, 'television': 1, 'line': 1, 'thrilled': 1, 'find': 1, 'jaleel': 1, 'urkel': 1, 'white': 1, 'bronson': 1, 'balki': 1, 'pinchot': 1, 'sharing': 1, 'scenes': 1, 'nicely': 1, 'realized': 1, 'though': 1, 'loss': 1, 'recall': 1, 'enough': 1, 'specific': 1, 'actors': 1, 'providing': 1, 'voice': 1, 'talent': 1, 'enthusiastic': 1, 'paired': 1, 'singers': 1, 'sound': 1, 'thing': 1, 'like': 1, 'big': 1, 'musical': 1, 'moments': 1, 'jane': 1, 'seymour': 1, 'celine': 1, 'dion': 1, 'must': 1, 'strain': 1, 'mess': 1, 'good': 1, 'aside': 1, 'fact': 1, 'children': 1, 'probably': 1, 'bored': 1, 'watching': 1, 'adults': 1, 'grievous': 1, 'error': 1, 'complete': 1, 'lack': 1, 'personality': 1, 'learn': 1, 'goes': 1, 'long': 1, 'way': 1}, 'neg')\n"
     ]
    }
   ],
   "source": [
    "print(negative_features[3])"
   ]
  },
  {
   "cell_type": "code",
   "execution_count": 148,
   "metadata": {
    "collapsed": true
   },
   "outputs": [],
   "source": [
    "positive_features = [\n",
    "    (build_bag_of_words_features_filtered(movie_reviews.words(fileids=[f])), 'pos') \\\n",
    "    for f in positive_fileids\n",
    "]"
   ]
  },
  {
   "cell_type": "code",
   "execution_count": 136,
   "metadata": {},
   "outputs": [
    {
     "name": "stdout",
     "output_type": "stream",
     "text": [
      "({'apparently': 1, 'director': 1, 'tony': 1, 'kaye': 1, 'major': 1, 'battle': 1, 'new': 1, 'line': 1, 'regarding': 1, 'film': 1, 'american': 1, 'history': 1, 'x': 1, 'know': 1, 'details': 1, 'fight': 1, 'seems': 1, 'happy': 1, 'final': 1, 'product': 1, 'nearly': 1, 'removed': 1, 'name': 1, 'credits': 1, 'altogether': 1, 'heard': 1, 'kind': 1, 'thing': 1, 'happening': 1, 'makes': 1, 'wonder': 1, 'much': 1, 'input': 1, 'studio': 1, 'films': 1, 'produce': 1, 'found': 1, 'extremely': 1, 'good': 1, 'focused': 1, 'look': 1, 'touchy': 1, 'subject': 1, 'racism': 1, 'powerful': 1, 'charismatic': 1, 'performance': 1, 'edward': 1, 'norton': 1, 'hard': 1, 'believe': 1, 'two': 1, 'years': 1, 'since': 1, 'fantastic': 1, 'role': 1, 'primal': 1, 'fear': 1, 'starring': 1, 'making': 1, 'star': 1, 'one': 1, 'performers': 1, 'becomes': 1, 'character': 1, 'work': 1, 'best': 1, 'performances': 1, 'year': 1, 'plays': 1, 'young': 1, 'man': 1, 'named': 1, 'derek': 1, 'vinyard': 1, 'skinhead': 1, 'living': 1, 'venice': 1, 'beach': 1, 'brother': 1, 'danny': 1, 'furlong': 1, 'mother': 1, 'beverly': 1, 'angelo': 1, 'sister': 1, 'davin': 1, 'jennifer': 1, 'lien': 1, 'opens': 1, 'flashback': 1, 'brutally': 1, 'kills': 1, 'black': 1, 'men': 1, 'vandalizing': 1, 'car': 1, 'find': 1, 'lands': 1, 'prison': 1, 'point': 1, 'seen': 1, 'eyes': 1, 'present': 1, 'time': 1, 'high': 1, 'school': 1, 'eager': 1, 'follow': 1, 'footsteps': 1, 'told': 1, 'see': 1, 'path': 1, 'leads': 1, 'adoption': 1, 'white': 1, 'supremacy': 1, 'released': 1, 'served': 1, 'three': 1, 'finds': 1, 'full': 1, 'blown': 1, 'however': 1, 'given': 1, 'violence': 1, 'tries': 1, 'get': 1, 'understand': 1, 'comes': 1, 'bad': 1, 'things': 1, 'interesting': 1, 'stupid': 1, 'thoughtless': 1, 'people': 1, '--': 1, 'intelligent': 1, 'articulate': 1, 'voice': 1, 'beliefs': 1, 'disturbingly': 1, 'straightforward': 1, 'terms': 1, 'make': 1, 'controversial': 1, 'movie': 1, 'preach': 1, 'right': 1, 'note': 1, 'material': 1, 'mainstream': 1, 'redemption': 1, 'phase': 1, 'main': 1, 'may': 1, 'think': 1, 'way': 1, 'sympathetic': 1, 'partially': 1, 'disagree': 1, 'although': 1, 'advocate': 1, 'presents': 1, 'loud': 1, 'obnoxious': 1, 'also': 1, 'smart': 1, 'reasons': 1, 'believable': 1, 'father': 1, 'arbitrarily': 1, 'killed': 1, 'group': 1, 'clear': 1, 'passionate': 1, 'punk': 1, 'looking': 1, 'excuse': 1, 'beat': 1, 'course': 1, 'helps': 1, 'actor': 1, 'talented': 1, 'play': 1, 'part': 1, 'astonishing': 1, 'frightening': 1, 'looks': 1, 'shaved': 1, 'head': 1, 'swastika': 1, 'chest': 1, 'addition': 1, 'getting': 1, 'perfect': 1, 'requires': 1, 'intelligence': 1, 'depth': 1, 'whole': 1, 'lot': 1, 'shouting': 1, 'ease': 1, 'even': 1, 'meanest': 1, 'likable': 1, 'quality': 1, 'gutsy': 1, 'approach': 1, 'telling': 1, 'story': 1, 'adds': 1, 'subplot': 1, 'principal': 1, 'avery': 1, 'brooks': 1, 'obsessed': 1, 'purging': 1, 'hatred': 1, 'terrific': 1, 'standouts': 1, 'visually': 1, 'indulges': 1, 'artistic': 1, 'choices': 1, 'nicely': 1, 'lots': 1, 'slow': 1, 'motion': 1, 'strange': 1, 'camera': 1, 'angles': 1, 'add': 1, 'moody': 1, 'atmosphere': 1, 'like': 1, 'movies': 1, 'lately': 1, 'skims': 1, 'past': 1, 'greatness': 1, 'last': 1, 'minutes': 1, 'climactic': 1, 'scene': 1, 'moving': 1, 'picture': 1, 'ends': 1, 'pretentious': 1, 'preachy': 1, 'resolution': 1, 'featuring': 1, 'brief': 1, 'narration': 1, 'subtle': 1, 'felt': 1, 'slap': 1, 'face': 1, 'hand': 1, 'fed': 1, 'theme': 1, 'simplistic': 1, 'exactly': 1, 'disliked': 1, 'version': 1, 'perhaps': 1, 'problem': 1, 'imagine': 1, 'least': 1, 'pleased': 1, 'many': 1, 'timid': 1, 'weak': 1, 'manages': 1, 'compelling': 1, 'argument': 1, 'without': 1, 'advocating': 1}, 'pos')\n"
     ]
    }
   ],
   "source": [
    "print(positive_features[6])"
   ]
  },
  {
   "cell_type": "code",
   "execution_count": 66,
   "metadata": {
    "collapsed": true
   },
   "outputs": [],
   "source": [
    "from nltk.classify import NaiveBayesClassifier"
   ]
  },
  {
   "cell_type": "code",
   "execution_count": 67,
   "metadata": {
    "collapsed": true
   },
   "outputs": [],
   "source": [
    "split = 800"
   ]
  },
  {
   "cell_type": "code",
   "execution_count": 68,
   "metadata": {
    "collapsed": true
   },
   "outputs": [],
   "source": [
    "sentiment_classifier = NaiveBayesClassifier.train(positive_features[:split]+negative_features[:split])"
   ]
  },
  {
   "cell_type": "code",
   "execution_count": 69,
   "metadata": {},
   "outputs": [
    {
     "data": {
      "text/plain": [
       "98.0625"
      ]
     },
     "execution_count": 69,
     "metadata": {},
     "output_type": "execute_result"
    }
   ],
   "source": [
    "nltk.classify.util.accuracy(sentiment_classifier, positive_features[:split]+negative_features[:split])*100"
   ]
  },
  {
   "cell_type": "code",
   "execution_count": 129,
   "metadata": {},
   "outputs": [
    {
     "data": {
      "text/plain": [
       "71.75"
      ]
     },
     "execution_count": 129,
     "metadata": {},
     "output_type": "execute_result"
    }
   ],
   "source": [
    "nltk.classify.util.accuracy(sentiment_classifier, positive_features[split:]+negative_features[split:])*100"
   ]
  },
  {
   "cell_type": "code",
   "execution_count": 130,
   "metadata": {},
   "outputs": [
    {
     "name": "stdout",
     "output_type": "stream",
     "text": [
      "Most Informative Features\n",
      "             outstanding = 1                 pos : neg    =     13.9 : 1.0\n",
      "               insulting = 1                 neg : pos    =     13.7 : 1.0\n",
      "              vulnerable = 1                 pos : neg    =     13.0 : 1.0\n",
      "               ludicrous = 1                 neg : pos    =     12.6 : 1.0\n",
      "             uninvolving = 1                 neg : pos    =     12.3 : 1.0\n",
      "              astounding = 1                 pos : neg    =     11.7 : 1.0\n",
      "                  avoids = 1                 pos : neg    =     11.7 : 1.0\n",
      "             fascination = 1                 pos : neg    =     11.0 : 1.0\n",
      "                    anna = 1                 pos : neg    =     10.3 : 1.0\n",
      "                  symbol = 1                 pos : neg    =     10.3 : 1.0\n"
     ]
    }
   ],
   "source": [
    "sentiment_classifier.show_most_informative_features()"
   ]
  },
  {
   "cell_type": "markdown",
   "metadata": {},
   "source": [
    "## Twitter API Access"
   ]
  },
  {
   "cell_type": "code",
   "execution_count": 9,
   "metadata": {
    "collapsed": true
   },
   "outputs": [],
   "source": [
    "import pickle\n",
    "import os\n",
    "import pandas as pd"
   ]
  },
  {
   "cell_type": "code",
   "execution_count": 10,
   "metadata": {
    "collapsed": true
   },
   "outputs": [],
   "source": [
    "if not os.path.exists('secret_twitter_credentials.pkl'):\n",
    "    Twitter={}\n",
    "    Twitter['Consumer Key'] = 'NSBtj49mpE8Cq7u318ZhXwUW3'\n",
    "    Twitter['Consumer Secret'] = 'cOhUlIORUZop7XpFChBfFkASbplLGRLvnOpzYYXMOw9qbTbD0g'\n",
    "    Twitter['Access Token'] = '948651348974858242-3vvqlnYFr5dDaZiZiWznP5NV4mvoLSN'\n",
    "    Twitter['Access Token Secret'] = 'VLkkJ090noblEqeX9Mn67RG5aYZxZncZCCmGqgZL68m5N'\n",
    "    with open('secret_twitter_credentials.pkl','wb') as f:\n",
    "        pickle.dump(Twitter, f)\n",
    "else:\n",
    "    Twitter=pickle.load(open('secret_twitter_credentials.pkl','rb'))"
   ]
  },
  {
   "cell_type": "code",
   "execution_count": 11,
   "metadata": {
    "collapsed": true
   },
   "outputs": [],
   "source": [
    "Twitter['Consumer Key'] = 'NSBtj49mpE8Cq7u318ZhXwUW3'\n",
    "Twitter['Consumer Secret'] = 'cOhUlIORUZop7XpFChBfFkASbplLGRLvnOpzYYXMOw9qbTbD0g'\n",
    "Twitter['Access Token'] = '948651348974858242-3vvqlnYFr5dDaZiZiWznP5NV4mvoLSN'\n",
    "Twitter['Access Token Secret'] = 'VLkkJ090noblEqeX9Mn67RG5aYZxZncZCCmGqgZL68m5N'"
   ]
  },
  {
   "cell_type": "code",
   "execution_count": 12,
   "metadata": {},
   "outputs": [
    {
     "name": "stdout",
     "output_type": "stream",
     "text": [
      "<twitter.api.Twitter object at 0x000000F121D03B38>\n"
     ]
    }
   ],
   "source": [
    "import twitter\n",
    "\n",
    "auth = twitter.oauth.OAuth(Twitter['Access Token'],\n",
    "                           Twitter['Access Token Secret'],\n",
    "                           Twitter['Consumer Key'],\n",
    "                           Twitter['Consumer Secret'])\n",
    "\n",
    "twitter_api = twitter.Twitter(auth=auth)\n",
    "\n",
    "# Nothing to see by displaying twitter_api except that it's now a\n",
    "# defined variable\n",
    "\n",
    "print(twitter_api)"
   ]
  },
  {
   "cell_type": "markdown",
   "metadata": {},
   "source": [
    "## Retrieving world trends"
   ]
  },
  {
   "cell_type": "code",
   "execution_count": 13,
   "metadata": {},
   "outputs": [],
   "source": [
    "World_WOE_ID = 1\n",
    "world_trends = twitter_api.trends.place(_id=World_WOE_ID)"
   ]
  },
  {
   "cell_type": "code",
   "execution_count": 14,
   "metadata": {},
   "outputs": [
    {
     "data": {
      "text/html": [
       "<div>\n",
       "<style>\n",
       "    .dataframe thead tr:only-child th {\n",
       "        text-align: right;\n",
       "    }\n",
       "\n",
       "    .dataframe thead th {\n",
       "        text-align: left;\n",
       "    }\n",
       "\n",
       "    .dataframe tbody tr th {\n",
       "        vertical-align: top;\n",
       "    }\n",
       "</style>\n",
       "<table border=\"1\" class=\"dataframe\">\n",
       "  <thead>\n",
       "    <tr style=\"text-align: right;\">\n",
       "      <th></th>\n",
       "      <th>name</th>\n",
       "      <th>promoted_content</th>\n",
       "      <th>query</th>\n",
       "      <th>tweet_volume</th>\n",
       "      <th>url</th>\n",
       "    </tr>\n",
       "  </thead>\n",
       "  <tbody>\n",
       "    <tr>\n",
       "      <th>0</th>\n",
       "      <td>#Bachelor</td>\n",
       "      <td>None</td>\n",
       "      <td>%23Bachelor</td>\n",
       "      <td>15167.0</td>\n",
       "      <td>http://twitter.com/search?q=%23Bachelor</td>\n",
       "    </tr>\n",
       "    <tr>\n",
       "      <th>1</th>\n",
       "      <td>#BestBoyBand</td>\n",
       "      <td>None</td>\n",
       "      <td>%23BestBoyBand</td>\n",
       "      <td>1106270.0</td>\n",
       "      <td>http://twitter.com/search?q=%23BestBoyBand</td>\n",
       "    </tr>\n",
       "    <tr>\n",
       "      <th>2</th>\n",
       "      <td>#COAC2018P2</td>\n",
       "      <td>None</td>\n",
       "      <td>%23COAC2018P2</td>\n",
       "      <td>NaN</td>\n",
       "      <td>http://twitter.com/search?q=%23COAC2018P2</td>\n",
       "    </tr>\n",
       "    <tr>\n",
       "      <th>3</th>\n",
       "      <td>#راسب_ولكن</td>\n",
       "      <td>None</td>\n",
       "      <td>%23%D8%B1%D8%A7%D8%B3%D8%A8_%D9%88%D9%84%D9%83...</td>\n",
       "      <td>45503.0</td>\n",
       "      <td>http://twitter.com/search?q=%23%D8%B1%D8%A7%D8...</td>\n",
       "    </tr>\n",
       "    <tr>\n",
       "      <th>4</th>\n",
       "      <td>#OTDirecto10E</td>\n",
       "      <td>None</td>\n",
       "      <td>%23OTDirecto10E</td>\n",
       "      <td>89354.0</td>\n",
       "      <td>http://twitter.com/search?q=%23OTDirecto10E</td>\n",
       "    </tr>\n",
       "    <tr>\n",
       "      <th>5</th>\n",
       "      <td>يوسف سيف</td>\n",
       "      <td>None</td>\n",
       "      <td>%22%D9%8A%D9%88%D8%B3%D9%81+%D8%B3%D9%8A%D9%81%22</td>\n",
       "      <td>NaN</td>\n",
       "      <td>http://twitter.com/search?q=%22%D9%8A%D9%88%D8...</td>\n",
       "    </tr>\n",
       "    <tr>\n",
       "      <th>6</th>\n",
       "      <td>7-Eleven</td>\n",
       "      <td>None</td>\n",
       "      <td>7-Eleven</td>\n",
       "      <td>20410.0</td>\n",
       "      <td>http://twitter.com/search?q=7-Eleven</td>\n",
       "    </tr>\n",
       "    <tr>\n",
       "      <th>7</th>\n",
       "      <td>Omar Pérez</td>\n",
       "      <td>None</td>\n",
       "      <td>%22Omar+P%C3%A9rez%22</td>\n",
       "      <td>NaN</td>\n",
       "      <td>http://twitter.com/search?q=%22Omar+P%C3%A9rez%22</td>\n",
       "    </tr>\n",
       "    <tr>\n",
       "      <th>8</th>\n",
       "      <td>Erazo</td>\n",
       "      <td>None</td>\n",
       "      <td>Erazo</td>\n",
       "      <td>NaN</td>\n",
       "      <td>http://twitter.com/search?q=Erazo</td>\n",
       "    </tr>\n",
       "    <tr>\n",
       "      <th>9</th>\n",
       "      <td>Jack White</td>\n",
       "      <td>None</td>\n",
       "      <td>%22Jack+White%22</td>\n",
       "      <td>NaN</td>\n",
       "      <td>http://twitter.com/search?q=%22Jack+White%22</td>\n",
       "    </tr>\n",
       "    <tr>\n",
       "      <th>10</th>\n",
       "      <td>Shane Dawson</td>\n",
       "      <td>None</td>\n",
       "      <td>%22Shane+Dawson%22</td>\n",
       "      <td>10393.0</td>\n",
       "      <td>http://twitter.com/search?q=%22Shane+Dawson%22</td>\n",
       "    </tr>\n",
       "    <tr>\n",
       "      <th>11</th>\n",
       "      <td>Tim Farron</td>\n",
       "      <td>None</td>\n",
       "      <td>%22Tim+Farron%22</td>\n",
       "      <td>10353.0</td>\n",
       "      <td>http://twitter.com/search?q=%22Tim+Farron%22</td>\n",
       "    </tr>\n",
       "    <tr>\n",
       "      <th>12</th>\n",
       "      <td>NAFTA</td>\n",
       "      <td>None</td>\n",
       "      <td>NAFTA</td>\n",
       "      <td>10769.0</td>\n",
       "      <td>http://twitter.com/search?q=NAFTA</td>\n",
       "    </tr>\n",
       "    <tr>\n",
       "      <th>13</th>\n",
       "      <td>Ospina</td>\n",
       "      <td>None</td>\n",
       "      <td>Ospina</td>\n",
       "      <td>NaN</td>\n",
       "      <td>http://twitter.com/search?q=Ospina</td>\n",
       "    </tr>\n",
       "    <tr>\n",
       "      <th>14</th>\n",
       "      <td>Leganés</td>\n",
       "      <td>None</td>\n",
       "      <td>Legan%C3%A9s</td>\n",
       "      <td>NaN</td>\n",
       "      <td>http://twitter.com/search?q=Legan%C3%A9s</td>\n",
       "    </tr>\n",
       "    <tr>\n",
       "      <th>15</th>\n",
       "      <td>Diet Coke</td>\n",
       "      <td>None</td>\n",
       "      <td>%22Diet+Coke%22</td>\n",
       "      <td>NaN</td>\n",
       "      <td>http://twitter.com/search?q=%22Diet+Coke%22</td>\n",
       "    </tr>\n",
       "    <tr>\n",
       "      <th>16</th>\n",
       "      <td>Iwobi</td>\n",
       "      <td>None</td>\n",
       "      <td>Iwobi</td>\n",
       "      <td>12383.0</td>\n",
       "      <td>http://twitter.com/search?q=Iwobi</td>\n",
       "    </tr>\n",
       "    <tr>\n",
       "      <th>17</th>\n",
       "      <td>LimanthaApoiaTinderson</td>\n",
       "      <td>None</td>\n",
       "      <td>LimanthaApoiaTinderson</td>\n",
       "      <td>12543.0</td>\n",
       "      <td>http://twitter.com/search?q=LimanthaApoiaTinde...</td>\n",
       "    </tr>\n",
       "    <tr>\n",
       "      <th>18</th>\n",
       "      <td>Gerrit Cole</td>\n",
       "      <td>None</td>\n",
       "      <td>%22Gerrit+Cole%22</td>\n",
       "      <td>12730.0</td>\n",
       "      <td>http://twitter.com/search?q=%22Gerrit+Cole%22</td>\n",
       "    </tr>\n",
       "    <tr>\n",
       "      <th>19</th>\n",
       "      <td>Landon Donovan</td>\n",
       "      <td>None</td>\n",
       "      <td>%22Landon+Donovan%22</td>\n",
       "      <td>NaN</td>\n",
       "      <td>http://twitter.com/search?q=%22Landon+Donovan%22</td>\n",
       "    </tr>\n",
       "    <tr>\n",
       "      <th>20</th>\n",
       "      <td>#CHEARS</td>\n",
       "      <td>None</td>\n",
       "      <td>%23CHEARS</td>\n",
       "      <td>19380.0</td>\n",
       "      <td>http://twitter.com/search?q=%23CHEARS</td>\n",
       "    </tr>\n",
       "    <tr>\n",
       "      <th>21</th>\n",
       "      <td>#KızılElma</td>\n",
       "      <td>None</td>\n",
       "      <td>%23K%C4%B1z%C4%B1lElma</td>\n",
       "      <td>15612.0</td>\n",
       "      <td>http://twitter.com/search?q=%23K%C4%B1z%C4%B1l...</td>\n",
       "    </tr>\n",
       "    <tr>\n",
       "      <th>22</th>\n",
       "      <td>#chilhavisto</td>\n",
       "      <td>None</td>\n",
       "      <td>%23chilhavisto</td>\n",
       "      <td>NaN</td>\n",
       "      <td>http://twitter.com/search?q=%23chilhavisto</td>\n",
       "    </tr>\n",
       "    <tr>\n",
       "      <th>23</th>\n",
       "      <td>#CESblackout</td>\n",
       "      <td>None</td>\n",
       "      <td>%23CESblackout</td>\n",
       "      <td>NaN</td>\n",
       "      <td>http://twitter.com/search?q=%23CESblackout</td>\n",
       "    </tr>\n",
       "    <tr>\n",
       "      <th>24</th>\n",
       "      <td>#ASCPSG</td>\n",
       "      <td>None</td>\n",
       "      <td>%23ASCPSG</td>\n",
       "      <td>NaN</td>\n",
       "      <td>http://twitter.com/search?q=%23ASCPSG</td>\n",
       "    </tr>\n",
       "    <tr>\n",
       "      <th>25</th>\n",
       "      <td>#AbolisciQualcosa</td>\n",
       "      <td>None</td>\n",
       "      <td>%23AbolisciQualcosa</td>\n",
       "      <td>NaN</td>\n",
       "      <td>http://twitter.com/search?q=%23AbolisciQualcosa</td>\n",
       "    </tr>\n",
       "    <tr>\n",
       "      <th>26</th>\n",
       "      <td>#المتكبر_علي_بن_حمري</td>\n",
       "      <td>None</td>\n",
       "      <td>%23%D8%A7%D9%84%D9%85%D8%AA%D9%83%D8%A8%D8%B1_...</td>\n",
       "      <td>NaN</td>\n",
       "      <td>http://twitter.com/search?q=%23%D8%A7%D9%84%D9...</td>\n",
       "    </tr>\n",
       "    <tr>\n",
       "      <th>27</th>\n",
       "      <td>#WednesdayWisdom</td>\n",
       "      <td>None</td>\n",
       "      <td>%23WednesdayWisdom</td>\n",
       "      <td>85705.0</td>\n",
       "      <td>http://twitter.com/search?q=%23WednesdayWisdom</td>\n",
       "    </tr>\n",
       "    <tr>\n",
       "      <th>28</th>\n",
       "      <td>#WorstFirstDate</td>\n",
       "      <td>None</td>\n",
       "      <td>%23WorstFirstDate</td>\n",
       "      <td>NaN</td>\n",
       "      <td>http://twitter.com/search?q=%23WorstFirstDate</td>\n",
       "    </tr>\n",
       "    <tr>\n",
       "      <th>29</th>\n",
       "      <td>#10Ene</td>\n",
       "      <td>None</td>\n",
       "      <td>%2310Ene</td>\n",
       "      <td>43330.0</td>\n",
       "      <td>http://twitter.com/search?q=%2310Ene</td>\n",
       "    </tr>\n",
       "    <tr>\n",
       "      <th>30</th>\n",
       "      <td>#PedrerolTerroristaMediatico</td>\n",
       "      <td>None</td>\n",
       "      <td>%23PedrerolTerroristaMediatico</td>\n",
       "      <td>NaN</td>\n",
       "      <td>http://twitter.com/search?q=%23PedrerolTerrori...</td>\n",
       "    </tr>\n",
       "    <tr>\n",
       "      <th>31</th>\n",
       "      <td>#YaşasınTürkçüTürkiye</td>\n",
       "      <td>None</td>\n",
       "      <td>%23Ya%C5%9Fas%C4%B1nT%C3%BCrk%C3%A7%C3%BCT%C3%...</td>\n",
       "      <td>NaN</td>\n",
       "      <td>http://twitter.com/search?q=%23Ya%C5%9Fas%C4%B...</td>\n",
       "    </tr>\n",
       "    <tr>\n",
       "      <th>32</th>\n",
       "      <td>#SRFCTFC</td>\n",
       "      <td>None</td>\n",
       "      <td>%23SRFCTFC</td>\n",
       "      <td>NaN</td>\n",
       "      <td>http://twitter.com/search?q=%23SRFCTFC</td>\n",
       "    </tr>\n",
       "    <tr>\n",
       "      <th>33</th>\n",
       "      <td>#EnQuéMomento</td>\n",
       "      <td>None</td>\n",
       "      <td>%23EnQu%C3%A9Momento</td>\n",
       "      <td>NaN</td>\n",
       "      <td>http://twitter.com/search?q=%23EnQu%C3%A9Momento</td>\n",
       "    </tr>\n",
       "    <tr>\n",
       "      <th>34</th>\n",
       "      <td>#MasterChefGR</td>\n",
       "      <td>None</td>\n",
       "      <td>%23MasterChefGR</td>\n",
       "      <td>NaN</td>\n",
       "      <td>http://twitter.com/search?q=%23MasterChefGR</td>\n",
       "    </tr>\n",
       "    <tr>\n",
       "      <th>35</th>\n",
       "      <td>#حراك_النصراويين8</td>\n",
       "      <td>None</td>\n",
       "      <td>%23%D8%AD%D8%B1%D8%A7%D9%83_%D8%A7%D9%84%D9%86...</td>\n",
       "      <td>22582.0</td>\n",
       "      <td>http://twitter.com/search?q=%23%D8%AD%D8%B1%D8...</td>\n",
       "    </tr>\n",
       "    <tr>\n",
       "      <th>36</th>\n",
       "      <td>#UyangthandaNa</td>\n",
       "      <td>None</td>\n",
       "      <td>%23UyangthandaNa</td>\n",
       "      <td>NaN</td>\n",
       "      <td>http://twitter.com/search?q=%23UyangthandaNa</td>\n",
       "    </tr>\n",
       "    <tr>\n",
       "      <th>37</th>\n",
       "      <td>#ActaDeNacimiento</td>\n",
       "      <td>None</td>\n",
       "      <td>%23ActaDeNacimiento</td>\n",
       "      <td>NaN</td>\n",
       "      <td>http://twitter.com/search?q=%23ActaDeNacimiento</td>\n",
       "    </tr>\n",
       "    <tr>\n",
       "      <th>38</th>\n",
       "      <td>#من_اقوال_حبابتي</td>\n",
       "      <td>None</td>\n",
       "      <td>%23%D9%85%D9%86_%D8%A7%D9%82%D9%88%D8%A7%D9%84...</td>\n",
       "      <td>NaN</td>\n",
       "      <td>http://twitter.com/search?q=%23%D9%85%D9%86_%D...</td>\n",
       "    </tr>\n",
       "    <tr>\n",
       "      <th>39</th>\n",
       "      <td>#SaveCHIP</td>\n",
       "      <td>None</td>\n",
       "      <td>%23SaveCHIP</td>\n",
       "      <td>NaN</td>\n",
       "      <td>http://twitter.com/search?q=%23SaveCHIP</td>\n",
       "    </tr>\n",
       "    <tr>\n",
       "      <th>40</th>\n",
       "      <td>#شكرا_قبيله_يام</td>\n",
       "      <td>None</td>\n",
       "      <td>%23%D8%B4%D9%83%D8%B1%D8%A7_%D9%82%D8%A8%D9%8A...</td>\n",
       "      <td>17434.0</td>\n",
       "      <td>http://twitter.com/search?q=%23%D8%B4%D9%83%D8...</td>\n",
       "    </tr>\n",
       "    <tr>\n",
       "      <th>41</th>\n",
       "      <td>#VenACenar83</td>\n",
       "      <td>None</td>\n",
       "      <td>%23VenACenar83</td>\n",
       "      <td>NaN</td>\n",
       "      <td>http://twitter.com/search?q=%23VenACenar83</td>\n",
       "    </tr>\n",
       "    <tr>\n",
       "      <th>42</th>\n",
       "      <td>#Boldrini</td>\n",
       "      <td>None</td>\n",
       "      <td>%23Boldrini</td>\n",
       "      <td>NaN</td>\n",
       "      <td>http://twitter.com/search?q=%23Boldrini</td>\n",
       "    </tr>\n",
       "    <tr>\n",
       "      <th>43</th>\n",
       "      <td>#BabyBoomerBooks</td>\n",
       "      <td>None</td>\n",
       "      <td>%23BabyBoomerBooks</td>\n",
       "      <td>NaN</td>\n",
       "      <td>http://twitter.com/search?q=%23BabyBoomerBooks</td>\n",
       "    </tr>\n",
       "    <tr>\n",
       "      <th>44</th>\n",
       "      <td>#جماهير_العالمي_تنفرد_بالصداره</td>\n",
       "      <td>None</td>\n",
       "      <td>%23%D8%AC%D9%85%D8%A7%D9%87%D9%8A%D8%B1_%D8%A7...</td>\n",
       "      <td>NaN</td>\n",
       "      <td>http://twitter.com/search?q=%23%D8%AC%D9%85%D8...</td>\n",
       "    </tr>\n",
       "    <tr>\n",
       "      <th>45</th>\n",
       "      <td>#من_الي_يقول_احنا_ما_نقدر</td>\n",
       "      <td>None</td>\n",
       "      <td>%23%D9%85%D9%86_%D8%A7%D9%84%D9%8A_%D9%8A%D9%8...</td>\n",
       "      <td>NaN</td>\n",
       "      <td>http://twitter.com/search?q=%23%D9%85%D9%86_%D...</td>\n",
       "    </tr>\n",
       "    <tr>\n",
       "      <th>46</th>\n",
       "      <td>#YoQuisieraDivinity203</td>\n",
       "      <td>None</td>\n",
       "      <td>%23YoQuisieraDivinity203</td>\n",
       "      <td>NaN</td>\n",
       "      <td>http://twitter.com/search?q=%23YoQuisieraDivin...</td>\n",
       "    </tr>\n",
       "    <tr>\n",
       "      <th>47</th>\n",
       "      <td>#DemirtaşlaBuluşmaya</td>\n",
       "      <td>None</td>\n",
       "      <td>%23Demirta%C5%9FlaBulu%C5%9Fmaya</td>\n",
       "      <td>NaN</td>\n",
       "      <td>http://twitter.com/search?q=%23Demirta%C5%9Fla...</td>\n",
       "    </tr>\n",
       "    <tr>\n",
       "      <th>48</th>\n",
       "      <td>#14OcaktaÖzgürlükMeydanındayız</td>\n",
       "      <td>None</td>\n",
       "      <td>%2314Ocakta%C3%96zg%C3%BCrl%C3%BCkMeydan%C4%B1...</td>\n",
       "      <td>NaN</td>\n",
       "      <td>http://twitter.com/search?q=%2314Ocakta%C3%96z...</td>\n",
       "    </tr>\n",
       "    <tr>\n",
       "      <th>49</th>\n",
       "      <td>#NaMinhaFamiliaEu</td>\n",
       "      <td>None</td>\n",
       "      <td>%23NaMinhaFamiliaEu</td>\n",
       "      <td>26282.0</td>\n",
       "      <td>http://twitter.com/search?q=%23NaMinhaFamiliaEu</td>\n",
       "    </tr>\n",
       "  </tbody>\n",
       "</table>\n",
       "</div>"
      ],
      "text/plain": [
       "                              name promoted_content  \\\n",
       "0                        #Bachelor             None   \n",
       "1                     #BestBoyBand             None   \n",
       "2                      #COAC2018P2             None   \n",
       "3                       #راسب_ولكن             None   \n",
       "4                    #OTDirecto10E             None   \n",
       "5                         يوسف سيف             None   \n",
       "6                         7-Eleven             None   \n",
       "7                       Omar Pérez             None   \n",
       "8                            Erazo             None   \n",
       "9                       Jack White             None   \n",
       "10                    Shane Dawson             None   \n",
       "11                      Tim Farron             None   \n",
       "12                           NAFTA             None   \n",
       "13                          Ospina             None   \n",
       "14                         Leganés             None   \n",
       "15                       Diet Coke             None   \n",
       "16                           Iwobi             None   \n",
       "17          LimanthaApoiaTinderson             None   \n",
       "18                     Gerrit Cole             None   \n",
       "19                  Landon Donovan             None   \n",
       "20                         #CHEARS             None   \n",
       "21                      #KızılElma             None   \n",
       "22                    #chilhavisto             None   \n",
       "23                    #CESblackout             None   \n",
       "24                         #ASCPSG             None   \n",
       "25               #AbolisciQualcosa             None   \n",
       "26            #المتكبر_علي_بن_حمري             None   \n",
       "27                #WednesdayWisdom             None   \n",
       "28                 #WorstFirstDate             None   \n",
       "29                          #10Ene             None   \n",
       "30    #PedrerolTerroristaMediatico             None   \n",
       "31           #YaşasınTürkçüTürkiye             None   \n",
       "32                        #SRFCTFC             None   \n",
       "33                   #EnQuéMomento             None   \n",
       "34                   #MasterChefGR             None   \n",
       "35               #حراك_النصراويين8             None   \n",
       "36                  #UyangthandaNa             None   \n",
       "37               #ActaDeNacimiento             None   \n",
       "38                #من_اقوال_حبابتي             None   \n",
       "39                       #SaveCHIP             None   \n",
       "40                 #شكرا_قبيله_يام             None   \n",
       "41                    #VenACenar83             None   \n",
       "42                       #Boldrini             None   \n",
       "43                #BabyBoomerBooks             None   \n",
       "44  #جماهير_العالمي_تنفرد_بالصداره             None   \n",
       "45       #من_الي_يقول_احنا_ما_نقدر             None   \n",
       "46          #YoQuisieraDivinity203             None   \n",
       "47            #DemirtaşlaBuluşmaya             None   \n",
       "48  #14OcaktaÖzgürlükMeydanındayız             None   \n",
       "49               #NaMinhaFamiliaEu             None   \n",
       "\n",
       "                                                query  tweet_volume  \\\n",
       "0                                         %23Bachelor       15167.0   \n",
       "1                                      %23BestBoyBand     1106270.0   \n",
       "2                                       %23COAC2018P2           NaN   \n",
       "3   %23%D8%B1%D8%A7%D8%B3%D8%A8_%D9%88%D9%84%D9%83...       45503.0   \n",
       "4                                     %23OTDirecto10E       89354.0   \n",
       "5   %22%D9%8A%D9%88%D8%B3%D9%81+%D8%B3%D9%8A%D9%81%22           NaN   \n",
       "6                                            7-Eleven       20410.0   \n",
       "7                               %22Omar+P%C3%A9rez%22           NaN   \n",
       "8                                               Erazo           NaN   \n",
       "9                                    %22Jack+White%22           NaN   \n",
       "10                                 %22Shane+Dawson%22       10393.0   \n",
       "11                                   %22Tim+Farron%22       10353.0   \n",
       "12                                              NAFTA       10769.0   \n",
       "13                                             Ospina           NaN   \n",
       "14                                       Legan%C3%A9s           NaN   \n",
       "15                                    %22Diet+Coke%22           NaN   \n",
       "16                                              Iwobi       12383.0   \n",
       "17                             LimanthaApoiaTinderson       12543.0   \n",
       "18                                  %22Gerrit+Cole%22       12730.0   \n",
       "19                               %22Landon+Donovan%22           NaN   \n",
       "20                                          %23CHEARS       19380.0   \n",
       "21                             %23K%C4%B1z%C4%B1lElma       15612.0   \n",
       "22                                     %23chilhavisto           NaN   \n",
       "23                                     %23CESblackout           NaN   \n",
       "24                                          %23ASCPSG           NaN   \n",
       "25                                %23AbolisciQualcosa           NaN   \n",
       "26  %23%D8%A7%D9%84%D9%85%D8%AA%D9%83%D8%A8%D8%B1_...           NaN   \n",
       "27                                 %23WednesdayWisdom       85705.0   \n",
       "28                                  %23WorstFirstDate           NaN   \n",
       "29                                           %2310Ene       43330.0   \n",
       "30                     %23PedrerolTerroristaMediatico           NaN   \n",
       "31  %23Ya%C5%9Fas%C4%B1nT%C3%BCrk%C3%A7%C3%BCT%C3%...           NaN   \n",
       "32                                         %23SRFCTFC           NaN   \n",
       "33                               %23EnQu%C3%A9Momento           NaN   \n",
       "34                                    %23MasterChefGR           NaN   \n",
       "35  %23%D8%AD%D8%B1%D8%A7%D9%83_%D8%A7%D9%84%D9%86...       22582.0   \n",
       "36                                   %23UyangthandaNa           NaN   \n",
       "37                                %23ActaDeNacimiento           NaN   \n",
       "38  %23%D9%85%D9%86_%D8%A7%D9%82%D9%88%D8%A7%D9%84...           NaN   \n",
       "39                                        %23SaveCHIP           NaN   \n",
       "40  %23%D8%B4%D9%83%D8%B1%D8%A7_%D9%82%D8%A8%D9%8A...       17434.0   \n",
       "41                                     %23VenACenar83           NaN   \n",
       "42                                        %23Boldrini           NaN   \n",
       "43                                 %23BabyBoomerBooks           NaN   \n",
       "44  %23%D8%AC%D9%85%D8%A7%D9%87%D9%8A%D8%B1_%D8%A7...           NaN   \n",
       "45  %23%D9%85%D9%86_%D8%A7%D9%84%D9%8A_%D9%8A%D9%8...           NaN   \n",
       "46                           %23YoQuisieraDivinity203           NaN   \n",
       "47                   %23Demirta%C5%9FlaBulu%C5%9Fmaya           NaN   \n",
       "48  %2314Ocakta%C3%96zg%C3%BCrl%C3%BCkMeydan%C4%B1...           NaN   \n",
       "49                                %23NaMinhaFamiliaEu       26282.0   \n",
       "\n",
       "                                                  url  \n",
       "0             http://twitter.com/search?q=%23Bachelor  \n",
       "1          http://twitter.com/search?q=%23BestBoyBand  \n",
       "2           http://twitter.com/search?q=%23COAC2018P2  \n",
       "3   http://twitter.com/search?q=%23%D8%B1%D8%A7%D8...  \n",
       "4         http://twitter.com/search?q=%23OTDirecto10E  \n",
       "5   http://twitter.com/search?q=%22%D9%8A%D9%88%D8...  \n",
       "6                http://twitter.com/search?q=7-Eleven  \n",
       "7   http://twitter.com/search?q=%22Omar+P%C3%A9rez%22  \n",
       "8                   http://twitter.com/search?q=Erazo  \n",
       "9        http://twitter.com/search?q=%22Jack+White%22  \n",
       "10     http://twitter.com/search?q=%22Shane+Dawson%22  \n",
       "11       http://twitter.com/search?q=%22Tim+Farron%22  \n",
       "12                  http://twitter.com/search?q=NAFTA  \n",
       "13                 http://twitter.com/search?q=Ospina  \n",
       "14           http://twitter.com/search?q=Legan%C3%A9s  \n",
       "15        http://twitter.com/search?q=%22Diet+Coke%22  \n",
       "16                  http://twitter.com/search?q=Iwobi  \n",
       "17  http://twitter.com/search?q=LimanthaApoiaTinde...  \n",
       "18      http://twitter.com/search?q=%22Gerrit+Cole%22  \n",
       "19   http://twitter.com/search?q=%22Landon+Donovan%22  \n",
       "20              http://twitter.com/search?q=%23CHEARS  \n",
       "21  http://twitter.com/search?q=%23K%C4%B1z%C4%B1l...  \n",
       "22         http://twitter.com/search?q=%23chilhavisto  \n",
       "23         http://twitter.com/search?q=%23CESblackout  \n",
       "24              http://twitter.com/search?q=%23ASCPSG  \n",
       "25    http://twitter.com/search?q=%23AbolisciQualcosa  \n",
       "26  http://twitter.com/search?q=%23%D8%A7%D9%84%D9...  \n",
       "27     http://twitter.com/search?q=%23WednesdayWisdom  \n",
       "28      http://twitter.com/search?q=%23WorstFirstDate  \n",
       "29               http://twitter.com/search?q=%2310Ene  \n",
       "30  http://twitter.com/search?q=%23PedrerolTerrori...  \n",
       "31  http://twitter.com/search?q=%23Ya%C5%9Fas%C4%B...  \n",
       "32             http://twitter.com/search?q=%23SRFCTFC  \n",
       "33   http://twitter.com/search?q=%23EnQu%C3%A9Momento  \n",
       "34        http://twitter.com/search?q=%23MasterChefGR  \n",
       "35  http://twitter.com/search?q=%23%D8%AD%D8%B1%D8...  \n",
       "36       http://twitter.com/search?q=%23UyangthandaNa  \n",
       "37    http://twitter.com/search?q=%23ActaDeNacimiento  \n",
       "38  http://twitter.com/search?q=%23%D9%85%D9%86_%D...  \n",
       "39            http://twitter.com/search?q=%23SaveCHIP  \n",
       "40  http://twitter.com/search?q=%23%D8%B4%D9%83%D8...  \n",
       "41         http://twitter.com/search?q=%23VenACenar83  \n",
       "42            http://twitter.com/search?q=%23Boldrini  \n",
       "43     http://twitter.com/search?q=%23BabyBoomerBooks  \n",
       "44  http://twitter.com/search?q=%23%D8%AC%D9%85%D8...  \n",
       "45  http://twitter.com/search?q=%23%D9%85%D9%86_%D...  \n",
       "46  http://twitter.com/search?q=%23YoQuisieraDivin...  \n",
       "47  http://twitter.com/search?q=%23Demirta%C5%9Fla...  \n",
       "48  http://twitter.com/search?q=%2314Ocakta%C3%96z...  \n",
       "49    http://twitter.com/search?q=%23NaMinhaFamiliaEu  "
      ]
     },
     "execution_count": 14,
     "metadata": {},
     "output_type": "execute_result"
    }
   ],
   "source": [
    "pd.DataFrame(world_trends[0]['trends'])"
   ]
  },
  {
   "cell_type": "markdown",
   "metadata": {},
   "source": [
    "## Colleting tweets for top trend"
   ]
  },
  {
   "cell_type": "code",
   "execution_count": 461,
   "metadata": {},
   "outputs": [],
   "source": [
    "q = 'justiceforzainb' \n",
    "\n",
    "number = 100\n",
    "\n",
    "#search_results = twitter_api.search.tweets(q=q, count=number)\n",
    "#statuses = search_results['statuses']"
   ]
  },
  {
   "cell_type": "code",
   "execution_count": 462,
   "metadata": {
    "collapsed": true
   },
   "outputs": [],
   "source": [
    "all_text = []\n",
    "filtered_statuses = []"
   ]
  },
  {
   "cell_type": "code",
   "execution_count": 463,
   "metadata": {},
   "outputs": [],
   "source": [
    "for i in range(0, 10):\n",
    "    search_results = twitter_api.search.tweets(q=q, count=number)\n",
    "    statuses = search_results['statuses']\n",
    "    for s in statuses:\n",
    "        if not s[\"text\"] in all_text:\n",
    "            filtered_statuses.append(s)\n",
    "            all_text.append(s[\"text\"])"
   ]
  },
  {
   "cell_type": "code",
   "execution_count": 464,
   "metadata": {},
   "outputs": [
    {
     "data": {
      "text/plain": [
       "60"
      ]
     },
     "execution_count": 464,
     "metadata": {},
     "output_type": "execute_result"
    }
   ],
   "source": [
    "len(filtered_statuses)"
   ]
  },
  {
   "cell_type": "code",
   "execution_count": 465,
   "metadata": {},
   "outputs": [
    {
     "data": {
      "text/plain": [
       "'RT @MarriMumtaz: #justiceForZainb https://t.co/8tHRk9YgG4'"
      ]
     },
     "execution_count": 465,
     "metadata": {},
     "output_type": "execute_result"
    }
   ],
   "source": [
    "filtered_statuses[0]['text']"
   ]
  },
  {
   "cell_type": "markdown",
   "metadata": {},
   "source": [
    "## Extracting id's, text, hashtags and screen name from tweets"
   ]
  },
  {
   "cell_type": "code",
   "execution_count": 466,
   "metadata": {},
   "outputs": [],
   "source": [
    "status_texts = [ status['text'] \n",
    "                 for status in filtered_statuses ]\n",
    "#status_texts"
   ]
  },
  {
   "cell_type": "code",
   "execution_count": 467,
   "metadata": {},
   "outputs": [],
   "source": [
    "ids = [ status['id'] \n",
    "                 for status in filtered_statuses ]"
   ]
  },
  {
   "cell_type": "code",
   "execution_count": 468,
   "metadata": {},
   "outputs": [
    {
     "data": {
      "text/plain": [
       "str"
      ]
     },
     "execution_count": 468,
     "metadata": {},
     "output_type": "execute_result"
    }
   ],
   "source": [
    "type(status_texts[1])"
   ]
  },
  {
   "cell_type": "code",
   "execution_count": 469,
   "metadata": {
    "collapsed": true
   },
   "outputs": [],
   "source": [
    "hashtags = [ hashtag['text'] \n",
    "             for status in filtered_statuses\n",
    "                 for hashtag in status['entities']['hashtags'] ]"
   ]
  },
  {
   "cell_type": "code",
   "execution_count": 470,
   "metadata": {
    "collapsed": true
   },
   "outputs": [],
   "source": [
    "screen_names = [ user_mention['screen_name'] \n",
    "                 for status in filtered_statuses\n",
    "                     for user_mention in status['entities']['user_mentions'] ]"
   ]
  },
  {
   "cell_type": "code",
   "execution_count": 471,
   "metadata": {
    "collapsed": true
   },
   "outputs": [],
   "source": [
    "# Compute a collection of all words from all tweets\n",
    "words = [ w \n",
    "          for t in status_texts \n",
    "              for w in t.split() ]"
   ]
  },
  {
   "cell_type": "code",
   "execution_count": 472,
   "metadata": {},
   "outputs": [
    {
     "data": {
      "text/plain": [
       "list"
      ]
     },
     "execution_count": 472,
     "metadata": {},
     "output_type": "execute_result"
    }
   ],
   "source": [
    "type(words)"
   ]
  },
  {
   "cell_type": "code",
   "execution_count": 473,
   "metadata": {},
   "outputs": [
    {
     "name": "stdout",
     "output_type": "stream",
     "text": [
      "[('#JusticeForZainb', 21), ('کے', 16), ('RT', 14), ('کو', 12), ('کی', 11), ('#JusticeForZainab', 11), ('تو', 11), ('کا', 11), ('پر', 10), ('بھی', 8)]\n",
      "\n",
      "[('JusticeForZainb', 3), ('OfficialDGISPR', 2), ('HumairaYousafi', 2), ('shamas_virk99', 2), ('MarriMumtaz', 1), ('BWSOP', 1), ('AseefaBZ', 1), ('AnwarLodhi', 1), ('SardarSain3', 1), ('CMShehbaz', 1)]\n",
      "\n",
      "[('JusticeForZainb', 22), ('JusticeForZainab', 11), ('justiceforzainb', 4), ('RaiseYourVoice', 3), ('justiceForZainb', 2), ('Justice4Zainab', 2), ('جاگ_پنجاب', 1), ('قصور', 1), ('عجیب', 1), ('غریبوں', 1)]\n",
      "\n"
     ]
    }
   ],
   "source": [
    "from collections import Counter\n",
    "\n",
    "for item in [words, screen_names, hashtags]:\n",
    "    c = Counter(item)\n",
    "    print(c.most_common()[:10]) # top 10\n",
    "    print()"
   ]
  },
  {
   "cell_type": "code",
   "execution_count": 474,
   "metadata": {
    "collapsed": true
   },
   "outputs": [],
   "source": [
    "def prettyprint_counts(label, list_of_tuples):\n",
    "    print(\"\\n{:^20} | {:^6}\".format(label, \"Count\"))\n",
    "    print(\"*\"*40)\n",
    "    for k,v in list_of_tuples:\n",
    "        print(\"{:20} | {:>6}\".format(k,v))"
   ]
  },
  {
   "cell_type": "code",
   "execution_count": 475,
   "metadata": {},
   "outputs": [
    {
     "name": "stdout",
     "output_type": "stream",
     "text": [
      "\n",
      "        Word         | Count \n",
      "****************************************\n",
      "#JusticeForZainb     |     21\n",
      "کے                   |     16\n",
      "RT                   |     14\n",
      "کو                   |     12\n",
      "کی                   |     11\n",
      "#JusticeForZainab    |     11\n",
      "تو                   |     11\n",
      "کا                   |     11\n",
      "پر                   |     10\n",
      "بھی                  |      8\n",
      "\n",
      "    Screen Name      | Count \n",
      "****************************************\n",
      "JusticeForZainb      |      3\n",
      "OfficialDGISPR       |      2\n",
      "HumairaYousafi       |      2\n",
      "shamas_virk99        |      2\n",
      "MarriMumtaz          |      1\n",
      "BWSOP                |      1\n",
      "AseefaBZ             |      1\n",
      "AnwarLodhi           |      1\n",
      "SardarSain3          |      1\n",
      "CMShehbaz            |      1\n",
      "\n",
      "      Hashtag        | Count \n",
      "****************************************\n",
      "JusticeForZainb      |     22\n",
      "JusticeForZainab     |     11\n",
      "justiceforzainb      |      4\n",
      "RaiseYourVoice       |      3\n",
      "justiceForZainb      |      2\n",
      "Justice4Zainab       |      2\n",
      "جاگ_پنجاب            |      1\n",
      "قصور                 |      1\n",
      "عجیب                 |      1\n",
      "غریبوں               |      1\n"
     ]
    }
   ],
   "source": [
    "for label, data in (('Word', words), \n",
    "                    ('Screen Name', screen_names), \n",
    "                    ('Hashtag', hashtags)):\n",
    "    \n",
    "    c = Counter(data)\n",
    "    prettyprint_counts(label, c.most_common()[:10])"
   ]
  },
  {
   "cell_type": "markdown",
   "metadata": {},
   "source": [
    "## Testing the tweets sentiment"
   ]
  },
  {
   "cell_type": "code",
   "execution_count": 527,
   "metadata": {},
   "outputs": [
    {
     "data": {
      "text/plain": [
       "'not so bad but amazing'"
      ]
     },
     "execution_count": 527,
     "metadata": {},
     "output_type": "execute_result"
    }
   ],
   "source": [
    "sentence=status_texts\n",
    "#sentence='not so bad but amazing'\n",
    "#sentence\n",
    "#sentence"
   ]
  },
  {
   "cell_type": "code",
   "execution_count": 528,
   "metadata": {},
   "outputs": [
    {
     "data": {
      "text/plain": [
       "'not so bad but amazing'"
      ]
     },
     "execution_count": 528,
     "metadata": {},
     "output_type": "execute_result"
    }
   ],
   "source": [
    "#words=sentence.lower()\n",
    "#words"
   ]
  },
  {
   "cell_type": "code",
   "execution_count": 529,
   "metadata": {},
   "outputs": [
    {
     "data": {
      "text/plain": [
       "['not', 'so', 'bad', 'but', 'amazing']"
      ]
     },
     "execution_count": 529,
     "metadata": {},
     "output_type": "execute_result"
    }
   ],
   "source": [
    "#words = nltk.word_tokenize(words)\n",
    "#words"
   ]
  },
  {
   "cell_type": "code",
   "execution_count": 495,
   "metadata": {},
   "outputs": [
    {
     "data": {
      "text/plain": [
       "16"
      ]
     },
     "execution_count": 495,
     "metadata": {},
     "output_type": "execute_result"
    }
   ],
   "source": [
    "len(sentence)-1"
   ]
  },
  {
   "cell_type": "code",
   "execution_count": 496,
   "metadata": {},
   "outputs": [
    {
     "data": {
      "text/plain": [
       "['t', 'h', 'i', 's', 'i', 's', 'i', 'n', 's', 'u', 'l', 't', 'i', 'n', 'g']"
      ]
     },
     "execution_count": 496,
     "metadata": {},
     "output_type": "execute_result"
    }
   ],
   "source": [
    "words=[]\n",
    "for i in range(0,len(sentence)):\n",
    "    words.extend(nltk.word_tokenize(sentence[i].lower()))\n",
    "#words"
   ]
  },
  {
   "cell_type": "code",
   "execution_count": 530,
   "metadata": {},
   "outputs": [],
   "source": [
    "features = build_bag_of_words_features_filtered(words)"
   ]
  },
  {
   "cell_type": "code",
   "execution_count": 531,
   "metadata": {},
   "outputs": [
    {
     "data": {
      "text/plain": [
       "'neg'"
      ]
     },
     "execution_count": 531,
     "metadata": {},
     "output_type": "execute_result"
    }
   ],
   "source": [
    "sentiment_classifier.classify(features)"
   ]
  },
  {
   "cell_type": "code",
   "execution_count": null,
   "metadata": {
    "collapsed": true
   },
   "outputs": [],
   "source": []
  }
 ],
 "metadata": {
  "kernelspec": {
   "display_name": "Python 3",
   "language": "python",
   "name": "python3"
  },
  "language_info": {
   "codemirror_mode": {
    "name": "ipython",
    "version": 3
   },
   "file_extension": ".py",
   "mimetype": "text/x-python",
   "name": "python",
   "nbconvert_exporter": "python",
   "pygments_lexer": "ipython3",
   "version": "3.6.2"
  }
 },
 "nbformat": 4,
 "nbformat_minor": 2
}
